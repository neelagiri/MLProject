{
 "cells": [
  {
   "cell_type": "code",
   "execution_count": 3,
   "metadata": {},
   "outputs": [],
   "source": [
    "import pandas as pd\n",
    "import numpy as np\n",
    "from skimage.transform import resize\n",
    "import matplotlib.pyplot as plt \n",
    "import os,glob\n",
    "import csv #matplotlib inline \n",
    "from keras.preprocessing.image import load_img\n",
    "from keras.preprocessing.image import img_to_array\n",
    "from skimage.io import imread, imshow \n",
    "paths = [os.getcwd()+\"/Desktop/Project/Images/Mythical/Test/mythical\"]\n",
    "arrays = {} \n",
    "for path in paths:\n",
    "    for filename in glob.iglob(path + '**/*.jpg', recursive=True):\n",
    "        photo = load_img(filename, target_size=(5, 5))\n",
    "        updated_photo_array = img_to_array(photo).reshape(3, 5,5)          \n",
    "        head, tail = os.path.split(filename)\n",
    "        label=os.path.splitext(tail)[0]\n",
    "        arrays[label] = (updated_photo_array[0],updated_photo_array[1],updated_photo_array[2]) \n",
    "        \n",
    "        df=pd.DataFrame.from_dict(arrays)\n",
    "        df.to_csv ('exportImage_mythical_Test_DF.csv')"
   ]
  }
 ],
 "metadata": {
  "kernelspec": {
   "display_name": "Python 3",
   "language": "python",
   "name": "python3"
  },
  "language_info": {
   "codemirror_mode": {
    "name": "ipython",
    "version": 3
   },
   "file_extension": ".py",
   "mimetype": "text/x-python",
   "name": "python",
   "nbconvert_exporter": "python",
   "pygments_lexer": "ipython3",
   "version": "3.8.5"
  }
 },
 "nbformat": 4,
 "nbformat_minor": 4
}
