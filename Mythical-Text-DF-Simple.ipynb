{
 "cells": [
  {
   "cell_type": "code",
   "execution_count": 1,
   "metadata": {},
   "outputs": [],
   "source": [
    "import os,glob\n",
    "import re\n",
    "import csv\n",
    "import pandas as pd\n",
    "paths = [os.getcwd()+\"/Desktop/Project/Images/Text/Mythical\"] \n",
    "arrays = {} \n",
    "Terms_by_file = []\n",
    "for path in paths:\n",
    "    for filename in glob.iglob(path + '**/*.txt', recursive=True):\n",
    "        with open(filename, 'r') as f:\n",
    "            contents=f.read()\n",
    "            contents=contents.lower()\n",
    "            contents=re.sub(r'[^\\w]',' ',contents)\n",
    "            contents=contents.split()\n",
    "            \n",
    "            Terms=[]\n",
    "            Terms.append(contents)\n",
    "            Terms_by_file.append({'file name':os.path.split(filename)[1], 'terms':str(Terms)}) \n",
    "            df=pd.DataFrame.from_dict(Terms_by_file)\n",
    "            df.to_csv ('Mythical_TextDataFrame.csv')\n",
    "\n"
   ]
  }
 ],
 "metadata": {
  "kernelspec": {
   "display_name": "Python 3",
   "language": "python",
   "name": "python3"
  },
  "language_info": {
   "codemirror_mode": {
    "name": "ipython",
    "version": 3
   },
   "file_extension": ".py",
   "mimetype": "text/x-python",
   "name": "python",
   "nbconvert_exporter": "python",
   "pygments_lexer": "ipython3",
   "version": "3.8.5"
  }
 },
 "nbformat": 4,
 "nbformat_minor": 4
}
